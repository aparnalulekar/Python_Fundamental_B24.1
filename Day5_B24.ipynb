{
 "cells": [
  {
   "cell_type": "code",
   "execution_count": null,
   "metadata": {},
   "outputs": [],
   "source": [
    "Introduction to for loops:"
   ]
  },
  {
   "cell_type": "code",
   "execution_count": 1,
   "metadata": {},
   "outputs": [],
   "source": [
    "my_students=['nikitha','kiran','meenakshi','ananth','sameer','aparna']"
   ]
  },
  {
   "cell_type": "code",
   "execution_count": 2,
   "metadata": {},
   "outputs": [
    {
     "name": "stdout",
     "output_type": "stream",
     "text": [
      "['nikitha', 'kiran', 'meenakshi', 'ananth', 'sameer', 'aparna']\n"
     ]
    }
   ],
   "source": [
    "print(my_students)"
   ]
  },
  {
   "cell_type": "code",
   "execution_count": 3,
   "metadata": {},
   "outputs": [
    {
     "data": {
      "text/plain": [
       "list"
      ]
     },
     "execution_count": 3,
     "metadata": {},
     "output_type": "execute_result"
    }
   ],
   "source": [
    "type(my_students)"
   ]
  },
  {
   "cell_type": "code",
   "execution_count": null,
   "metadata": {},
   "outputs": [],
   "source": [
    "#req:"
   ]
  },
  {
   "cell_type": "code",
   "execution_count": 4,
   "metadata": {},
   "outputs": [
    {
     "name": "stdout",
     "output_type": "stream",
     "text": [
      "keep up the good work,nikitha\n"
     ]
    }
   ],
   "source": [
    "print(f\"keep up the good work,{my_students[0]}\")"
   ]
  },
  {
   "cell_type": "code",
   "execution_count": 5,
   "metadata": {},
   "outputs": [
    {
     "name": "stdout",
     "output_type": "stream",
     "text": [
      "keep up the good work,kiran\n"
     ]
    }
   ],
   "source": [
    "print(f\"keep up the good work,{my_students[1]}\")"
   ]
  },
  {
   "cell_type": "code",
   "execution_count": 6,
   "metadata": {},
   "outputs": [
    {
     "name": "stdout",
     "output_type": "stream",
     "text": [
      "keep up the good work,meenakshi\n"
     ]
    }
   ],
   "source": [
    "print(f\"keep up the good work,{my_students[2]}\")"
   ]
  },
  {
   "cell_type": "code",
   "execution_count": 7,
   "metadata": {},
   "outputs": [
    {
     "name": "stdout",
     "output_type": "stream",
     "text": [
      "['nikitha', 'kiran', 'meenakshi', 'ananth', 'sameer', 'aparna']\n"
     ]
    }
   ],
   "source": [
    "print(my_students)"
   ]
  },
  {
   "cell_type": "code",
   "execution_count": null,
   "metadata": {},
   "outputs": [],
   "source": [
    "#Implementation of a for loop"
   ]
  },
  {
   "cell_type": "code",
   "execution_count": 12,
   "metadata": {},
   "outputs": [
    {
     "name": "stdout",
     "output_type": "stream",
     "text": [
      "keep up the good work,nikitha\n",
      "keep up the good work,kiran\n",
      "keep up the good work,meenakshi\n",
      "keep up the good work,ananth\n",
      "keep up the good work,sameer\n",
      "keep up the good work,aparna\n"
     ]
    }
   ],
   "source": [
    "for student in my_students:\n",
    "    print( f\"keep up the good work,{student}\")"
   ]
  },
  {
   "cell_type": "code",
   "execution_count": null,
   "metadata": {},
   "outputs": [],
   "source": [
    "#General syntax of a for loop:\n",
    " for tempvar in mainvar:\n",
    "        print(tempvar)   #indentation"
   ]
  },
  {
   "cell_type": "code",
   "execution_count": 14,
   "metadata": {},
   "outputs": [
    {
     "name": "stdout",
     "output_type": "stream",
     "text": [
      "keep up the good work,nikitha\n",
      "keep up the good work,kiran\n",
      "keep up the good work,meenakshi\n",
      "keep up the good work,ananth\n",
      "keep up the good work,sameer\n",
      "keep up the good work,aparna\n"
     ]
    }
   ],
   "source": [
    "for x in my_students:\n",
    "    print(f\"keep up the good work,{x}\")"
   ]
  },
  {
   "cell_type": "code",
   "execution_count": 15,
   "metadata": {},
   "outputs": [
    {
     "name": "stdout",
     "output_type": "stream",
     "text": [
      "nikitha\n",
      "kiran\n",
      "meenakshi\n",
      "ananth\n",
      "sameer\n",
      "aparna\n"
     ]
    }
   ],
   "source": [
    "for batman in my_students:\n",
    "    print(batman)"
   ]
  },
  {
   "cell_type": "code",
   "execution_count": 18,
   "metadata": {},
   "outputs": [
    {
     "name": "stdout",
     "output_type": "stream",
     "text": [
      "keep up with the good work,nikitha\n",
      "keep up with the good work,kiran\n",
      "keep up with the good work,meenakshi\n",
      "keep up with the good work,ananth\n",
      "keep up with the good work,sameer\n",
      "keep up with the good work,aparna\n"
     ]
    }
   ],
   "source": [
    "for batman in my_students:\n",
    "    print(f\"keep up with the good work,{batman}\")"
   ]
  },
  {
   "cell_type": "code",
   "execution_count": 19,
   "metadata": {},
   "outputs": [
    {
     "name": "stdout",
     "output_type": "stream",
     "text": [
      "keep up with the good work,nikitha\n",
      "I am looking forward to recieve your practise file,nikitha\n",
      "keep up with the good work,kiran\n",
      "I am looking forward to recieve your practise file,kiran\n",
      "keep up with the good work,meenakshi\n",
      "I am looking forward to recieve your practise file,meenakshi\n",
      "keep up with the good work,ananth\n",
      "I am looking forward to recieve your practise file,ananth\n",
      "keep up with the good work,sameer\n",
      "I am looking forward to recieve your practise file,sameer\n",
      "keep up with the good work,aparna\n",
      "I am looking forward to recieve your practise file,aparna\n"
     ]
    }
   ],
   "source": [
    "for student in my_students:\n",
    "    print(f\"keep up with the good work,{student}\")\n",
    "    print(f\"I am looking forward to recieve your practise file,{student}\")"
   ]
  },
  {
   "cell_type": "code",
   "execution_count": 20,
   "metadata": {},
   "outputs": [
    {
     "name": "stdout",
     "output_type": "stream",
     "text": [
      "keep up with the good work,nikitha\n",
      "I am looking forward to recieve your practise file,nikitha.\n",
      "\n",
      "keep up with the good work,kiran\n",
      "I am looking forward to recieve your practise file,kiran.\n",
      "\n",
      "keep up with the good work,meenakshi\n",
      "I am looking forward to recieve your practise file,meenakshi.\n",
      "\n",
      "keep up with the good work,ananth\n",
      "I am looking forward to recieve your practise file,ananth.\n",
      "\n",
      "keep up with the good work,sameer\n",
      "I am looking forward to recieve your practise file,sameer.\n",
      "\n",
      "keep up with the good work,aparna\n",
      "I am looking forward to recieve your practise file,aparna.\n",
      "\n"
     ]
    }
   ],
   "source": [
    "for student in my_students:\n",
    "    print(f\"keep up with the good work,{student}\")\n",
    "    print(f\"I am looking forward to recieve your practise file,{student}.\\n\")"
   ]
  },
  {
   "cell_type": "code",
   "execution_count": 21,
   "metadata": {},
   "outputs": [
    {
     "name": "stdout",
     "output_type": "stream",
     "text": [
      "keep up with the good work,nikitha\n",
      "I am looking forward to recieve your practise file,nikitha.\n",
      "\n",
      "thank you all for showimg interest in learning python\n",
      "keep up with the good work,kiran\n",
      "I am looking forward to recieve your practise file,kiran.\n",
      "\n",
      "thank you all for showimg interest in learning python\n",
      "keep up with the good work,meenakshi\n",
      "I am looking forward to recieve your practise file,meenakshi.\n",
      "\n",
      "thank you all for showimg interest in learning python\n",
      "keep up with the good work,ananth\n",
      "I am looking forward to recieve your practise file,ananth.\n",
      "\n",
      "thank you all for showimg interest in learning python\n",
      "keep up with the good work,sameer\n",
      "I am looking forward to recieve your practise file,sameer.\n",
      "\n",
      "thank you all for showimg interest in learning python\n",
      "keep up with the good work,aparna\n",
      "I am looking forward to recieve your practise file,aparna.\n",
      "\n",
      "thank you all for showimg interest in learning python\n"
     ]
    }
   ],
   "source": [
    "for student in my_students:\n",
    "    print(f\"keep up with the good work,{student}\")\n",
    "    print(f\"I am looking forward to recieve your practise file,{student}.\\n\")\n",
    "    print(\"thank you all for showimg interest in learning python\")"
   ]
  },
  {
   "cell_type": "code",
   "execution_count": null,
   "metadata": {},
   "outputs": [],
   "source": []
  },
  {
   "cell_type": "code",
   "execution_count": null,
   "metadata": {},
   "outputs": [],
   "source": []
  },
  {
   "cell_type": "code",
   "execution_count": null,
   "metadata": {},
   "outputs": [],
   "source": []
  },
  {
   "cell_type": "code",
   "execution_count": null,
   "metadata": {},
   "outputs": [],
   "source": []
  },
  {
   "cell_type": "code",
   "execution_count": null,
   "metadata": {},
   "outputs": [],
   "source": []
  },
  {
   "cell_type": "code",
   "execution_count": null,
   "metadata": {},
   "outputs": [],
   "source": []
  },
  {
   "cell_type": "code",
   "execution_count": null,
   "metadata": {},
   "outputs": [],
   "source": []
  },
  {
   "cell_type": "code",
   "execution_count": null,
   "metadata": {},
   "outputs": [],
   "source": []
  },
  {
   "cell_type": "code",
   "execution_count": null,
   "metadata": {},
   "outputs": [],
   "source": []
  },
  {
   "cell_type": "code",
   "execution_count": null,
   "metadata": {},
   "outputs": [],
   "source": []
  },
  {
   "cell_type": "code",
   "execution_count": null,
   "metadata": {},
   "outputs": [],
   "source": []
  },
  {
   "cell_type": "code",
   "execution_count": null,
   "metadata": {},
   "outputs": [],
   "source": []
  },
  {
   "cell_type": "code",
   "execution_count": null,
   "metadata": {},
   "outputs": [],
   "source": []
  },
  {
   "cell_type": "code",
   "execution_count": null,
   "metadata": {},
   "outputs": [],
   "source": []
  },
  {
   "cell_type": "code",
   "execution_count": null,
   "metadata": {},
   "outputs": [],
   "source": []
  },
  {
   "cell_type": "code",
   "execution_count": null,
   "metadata": {},
   "outputs": [],
   "source": []
  }
 ],
 "metadata": {
  "kernelspec": {
   "display_name": "Python 3",
   "language": "python",
   "name": "python3"
  },
  "language_info": {
   "codemirror_mode": {
    "name": "ipython",
    "version": 3
   },
   "file_extension": ".py",
   "mimetype": "text/x-python",
   "name": "python",
   "nbconvert_exporter": "python",
   "pygments_lexer": "ipython3",
   "version": "3.7.6"
  }
 },
 "nbformat": 4,
 "nbformat_minor": 4
}
